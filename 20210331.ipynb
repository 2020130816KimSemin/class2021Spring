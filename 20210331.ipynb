{
  "nbformat": 4,
  "nbformat_minor": 0,
  "metadata": {
    "colab": {
      "name": "Untitled2.ipynb",
      "provenance": [],
      "authorship_tag": "ABX9TyMp9Rro0oliULiUsSZC4Qte",
      "include_colab_link": true
    },
    "kernelspec": {
      "name": "python3",
      "display_name": "Python 3"
    },
    "language_info": {
      "name": "python"
    }
  },
  "cells": [
    {
      "cell_type": "markdown",
      "metadata": {
        "id": "view-in-github",
        "colab_type": "text"
      },
      "source": [
        "<a href=\"https://colab.research.google.com/github/2020130816KimSemin/class2021Spring/blob/main/20210331.ipynb\" target=\"_parent\"><img src=\"https://colab.research.google.com/assets/colab-badge.svg\" alt=\"Open In Colab\"/></a>"
      ]
    },
    {
      "cell_type": "markdown",
      "metadata": {
        "id": "KxFrLPWR4zYq"
      },
      "source": [
        "a pitch : 240.9Hz / ae pitch : 230.2Hz\n",
        "\n",
        "a intensity: 83.95dB / ae intensity: 80.43dB\n",
        "\n",
        "a formant: 893.9Hz, 1468Hz / ae formant: 670.6Hz, 2297Hz\n",
        "\n",
        "a duration: 0.470300 / ae duration: 0.543084"
      ]
    }
  ]
}