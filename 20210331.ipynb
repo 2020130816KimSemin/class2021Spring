{
  "nbformat": 4,
  "nbformat_minor": 0,
  "metadata": {
    "colab": {
      "name": "Untitled3.ipynb",
      "provenance": [],
      "authorship_tag": "ABX9TyND+MTanHIIVk0jGst/6o/w",
      "include_colab_link": true
    },
    "kernelspec": {
      "name": "python3",
      "display_name": "Python 3"
    },
    "language_info": {
      "name": "python"
    }
  },
  "cells": [
    {
      "cell_type": "markdown",
      "metadata": {
        "id": "view-in-github",
        "colab_type": "text"
      },
      "source": [
        "<a href=\"https://colab.research.google.com/github/2020130816KimSemin/class2021Spring/blob/main/20210331.ipynb\" target=\"_parent\"><img src=\"https://colab.research.google.com/assets/colab-badge.svg\" alt=\"Open In Colab\"/></a>"
      ]
    },
    {
      "cell_type": "markdown",
      "metadata": {
        "id": "kAh5RUbV-FFx"
      },
      "source": [
        "a pitch: 222.8Hz / intensity: 76.15dB / formant: 794.1Hz, 1424Hz / duration: 0.54\n",
        "\n",
        "ae pitch: 222.2Hz / intensity: 77.5dB / formant: 636.7Hz, 2242Hz / duration: 0.57"
      ]
    }
  ]
}