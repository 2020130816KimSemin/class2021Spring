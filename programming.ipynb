{
  "nbformat": 4,
  "nbformat_minor": 0,
  "metadata": {
    "colab": {
      "name": "Colaboratory에 오신 것을 환영합니다",
      "provenance": [],
      "collapsed_sections": [],
      "toc_visible": true,
      "include_colab_link": true
    },
    "kernelspec": {
      "display_name": "Python 3",
      "name": "python3"
    }
  },
  "cells": [
    {
      "cell_type": "markdown",
      "metadata": {
        "id": "view-in-github",
        "colab_type": "text"
      },
      "source": [
        "<a href=\"https://colab.research.google.com/github/2020130816KimSemin/class2021Spring/blob/main/programming.ipynb\" target=\"_parent\"><img src=\"https://colab.research.google.com/assets/colab-badge.svg\" alt=\"Open In Colab\"/></a>"
      ]
    },
    {
      "cell_type": "markdown",
      "metadata": {
        "id": "4MD_DU7ipI18"
      },
      "source": [
        "인간의 언어는 단어와 문법으로 이루어져 있다. 즉 사과 = (사과 그림) 이렇게 왼쪽 '사과'라는 개념에 오른쪽의 개념이 들어가 있는 것이다.\r\n",
        "반면 컴퓨터 언어에서는 예를 들어 a = 1, b = 'love' 라고 되어 있으면 왼쪽을 **변수(variable)**라고 한다. 그리고 오른쪽의 내용을 왼쪽에 assign 한다고 생각하면 된다. 그리고 컴퓨터 언어에서의 문법은 **제어문** 이라고 하는 것이다.\r\n",
        "**함수**는 입출력 관계에서 변화를 일으키는 것이라고 생각하면 된다. 지금 AI는 대부분 y=ax+b라는 일차함수로 이루어져 있으며 컴퓨터 언어에서 함수를 입력하는 방법은 function add (a,b) c= a + b 라고 하여 a = 1, b = 2라고 할 때 add(1,2)라고 쓰면 되는 것이다. 즉, 반복의 과정을 하지 않도록 도와주는 것이다.\r\n"
      ]
    }
  ]
}