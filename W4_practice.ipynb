{
  "nbformat": 4,
  "nbformat_minor": 0,
  "metadata": {
    "colab": {
      "provenance": [],
      "authorship_tag": "ABX9TyOKUtenFefMeXyWt6vQPwOB",
      "include_colab_link": true
    },
    "kernelspec": {
      "name": "python3",
      "display_name": "Python 3"
    },
    "language_info": {
      "name": "python"
    }
  },
  "cells": [
    {
      "cell_type": "markdown",
      "metadata": {
        "id": "view-in-github",
        "colab_type": "text"
      },
      "source": [
        "<a href=\"https://colab.research.google.com/github/2020130816KimSemin/class2021Spring/blob/main/W4_practice.ipynb\" target=\"_parent\"><img src=\"https://colab.research.google.com/assets/colab-badge.svg\" alt=\"Open In Colab\"/></a>"
      ]
    },
    {
      "cell_type": "code",
      "execution_count": 3,
      "metadata": {
        "colab": {
          "base_uri": "https://localhost:8080/"
        },
        "id": "82TaC5Je-QR8",
        "outputId": "8f00ddc2-f605-4fea-a731-a2da3485bdb6"
      },
      "outputs": [
        {
          "output_type": "stream",
          "name": "stdout",
          "text": [
            "a is greater than b\n"
          ]
        }
      ],
      "source": [
        "#1. 숫자 비교\n",
        "\n",
        "a = 8\n",
        "b = 3\n",
        "\n",
        "if a > b:\n",
        "  print(\"a is greater than b\")\n",
        "elif a < b:\n",
        "  print(\"a is less than b\")\n",
        "else: #a == b\n",
        "  print(\"a is equal to b\")\n",
        "#indent 조심,자꾸 틀림,자동으로 indent\n"
      ]
    },
    {
      "cell_type": "code",
      "source": [
        "def compare(num1, num2): #coding에서는 변수 이름을 잘 짓는 것이 중요\n",
        " if num1 > num2:\n",
        "  print(\"num1 is greater than num2\")\n",
        " elif num1 < num2:\n",
        "  print(\"num1 is less than num2\")\n",
        " else: #a == b\n",
        "  print(\"num1 is equal to num2\")"
      ],
      "metadata": {
        "id": "PWynsdfw_HCd"
      },
      "execution_count": 9,
      "outputs": []
    },
    {
      "cell_type": "code",
      "source": [
        "compare(6, 3)\n",
        "#함수를 정의하면 때마다 if를 쓰지 않아도 되는 장점이 있음."
      ],
      "metadata": {
        "colab": {
          "base_uri": "https://localhost:8080/"
        },
        "id": "4pXxhyzC_-X3",
        "outputId": "2a6ff488-248d-4cab-c51e-f1fc55b9fe70"
      },
      "execution_count": 11,
      "outputs": [
        {
          "output_type": "stream",
          "name": "stdout",
          "text": [
            "num1 is greater than num2\n"
          ]
        }
      ]
    },
    {
      "cell_type": "code",
      "source": [
        "#장바구니 속 물건 확인\n",
        "a = [\"Apple\", \"Banana\", \"Cheese\", \"Shampoo\"]\n",
        "\n",
        "for item in a:\n",
        "  print(item)"
      ],
      "metadata": {
        "colab": {
          "base_uri": "https://localhost:8080/"
        },
        "id": "sOz2bpHOAPdL",
        "outputId": "93be3b04-7e56-47f7-b44d-c869d27b6fb6"
      },
      "execution_count": 20,
      "outputs": [
        {
          "output_type": "stream",
          "name": "stdout",
          "text": [
            "Apple\n",
            "Banana\n",
            "Cheese\n",
            "Shampoo\n"
          ]
        }
      ]
    },
    {
      "cell_type": "code",
      "source": [
        "#함수화\n",
        "\n",
        "def print_items(items):\n",
        "  for item in items:\n",
        "    print(item)"
      ],
      "metadata": {
        "id": "Crf1fjV8ApIh"
      },
      "execution_count": 21,
      "outputs": []
    },
    {
      "cell_type": "code",
      "source": [
        "print(print_items(a))\n",
        "print(\"\")\n",
        "print(print_items([ \"Apple\", \"Banana\", \"Cheese\", \"Shampoo\"]))\n",
        "#none이 왜 나와?"
      ],
      "metadata": {
        "colab": {
          "base_uri": "https://localhost:8080/"
        },
        "id": "5CNn4ILCA64d",
        "outputId": "73b43631-6ecc-4d3a-9873-683cdf0eb551"
      },
      "execution_count": 22,
      "outputs": [
        {
          "output_type": "stream",
          "name": "stdout",
          "text": [
            "Apple\n",
            "Banana\n",
            "Cheese\n",
            "Shampoo\n",
            "None\n",
            "\n",
            "Apple\n",
            "Banana\n",
            "Cheese\n",
            "Shampoo\n",
            "None\n"
          ]
        }
      ]
    }
  ]
}