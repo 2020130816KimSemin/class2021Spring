{
  "nbformat": 4,
  "nbformat_minor": 0,
  "metadata": {
    "colab": {
      "name": "Untitled2.ipynb",
      "provenance": [],
      "authorship_tag": "ABX9TyNTbhTv638Y8WpRoJ0iOqcp",
      "include_colab_link": true
    },
    "kernelspec": {
      "name": "python3",
      "display_name": "Python 3"
    }
  },
  "cells": [
    {
      "cell_type": "markdown",
      "metadata": {
        "id": "view-in-github",
        "colab_type": "text"
      },
      "source": [
        "<a href=\"https://colab.research.google.com/github/2020130816KimSemin/class2021Spring/blob/main/variables.ipynb\" target=\"_parent\"><img src=\"https://colab.research.google.com/assets/colab-badge.svg\" alt=\"Open In Colab\"/></a>"
      ]
    },
    {
      "cell_type": "code",
      "metadata": {
        "id": "goAyoU7vRheI",
        "outputId": "c32cc600-3c42-4dc2-b77d-84782e8fe65a"
      },
      "source": [
        "a = 1; print(type(a))"
      ],
      "execution_count": null,
      "outputs": [
        {
          "output_type": "stream",
          "text": [
            "<class 'int'>\n"
          ],
          "name": "stdout"
        }
      ]
    },
    {
      "cell_type": "code",
      "metadata": {
        "id": "txxnoqJuRheJ",
        "outputId": "713e5491-c822-43d7-ec7b-a00348e02708"
      },
      "source": [
        "a = 1; a = float(a); print(type(a))"
      ],
      "execution_count": null,
      "outputs": [
        {
          "output_type": "stream",
          "text": [
            "<class 'float'>\n"
          ],
          "name": "stdout"
        }
      ]
    },
    {
      "cell_type": "code",
      "metadata": {
        "id": "By9UCBctRheK",
        "outputId": "b0e2dc33-a3e3-4801-ffe4-b69ac0c74b13"
      },
      "source": [
        "a = 1.2; a = int(a); print(type(a))"
      ],
      "execution_count": null,
      "outputs": [
        {
          "output_type": "stream",
          "text": [
            "<class 'int'>\n"
          ],
          "name": "stdout"
        }
      ]
    },
    {
      "cell_type": "markdown",
      "metadata": {
        "id": "j0UjCGae17ax"
      },
      "source": [
        "**숫자형**\n",
        "\n",
        "<class 'int'> 는 정수\n",
        "<class 'float'> 는 소숫점\n",
        "\n"
      ]
    },
    {
      "cell_type": "code",
      "metadata": {
        "id": "gI6pmDVN29Yh",
        "colab": {
          "base_uri": "https://localhost:8080/"
        },
        "outputId": "dc6c95a1-9d23-4fe4-de31-0cce6ed936c4"
      },
      "source": [
        "a = 1\n",
        "print (type(a))\n",
        "a = float(a)\n",
        "print(a); print(type(a))\n",
        "a = int(a)\n",
        "print(a)"
      ],
      "execution_count": null,
      "outputs": [
        {
          "output_type": "stream",
          "text": [
            "<class 'int'>\n",
            "1.0\n",
            "<class 'float'>\n",
            "1\n"
          ],
          "name": "stdout"
        }
      ]
    },
    {
      "cell_type": "code",
      "metadata": {
        "id": "SyP0PB86RheL",
        "outputId": "e10d274f-e7fd-4cdd-a822-847fb83560ec"
      },
      "source": [
        "a = '123'; print(type(a)); print(a[1])"
      ],
      "execution_count": null,
      "outputs": [
        {
          "output_type": "stream",
          "text": [
            "<class 'str'>\n",
            "2\n"
          ],
          "name": "stdout"
        }
      ]
    },
    {
      "cell_type": "markdown",
      "metadata": {
        "id": "dxdPW2QmfJd9"
      },
      "source": [
        "a[0]은 첫번째 자리임을 헷갈리지 말자!!"
      ]
    },
    {
      "cell_type": "markdown",
      "metadata": {
        "id": "rxVVxBBM3eVt"
      },
      "source": [
        "**문자열 자료형**은 string\n",
        "\n",
        "\"를 사용해도 되지만 되도록 ' 사용하기"
      ]
    },
    {
      "cell_type": "code",
      "metadata": {
        "id": "TjHm2OkL3w2W",
        "colab": {
          "base_uri": "https://localhost:8080/"
        },
        "outputId": "2e53ba5a-1964-4e05-b714-a42a2a6618bc"
      },
      "source": [
        "a = 'love'\n",
        "print(type(a)); print(a[0])"
      ],
      "execution_count": null,
      "outputs": [
        {
          "output_type": "stream",
          "text": [
            "<class 'str'>\n",
            "l\n"
          ],
          "name": "stdout"
        }
      ]
    },
    {
      "cell_type": "code",
      "metadata": {
        "id": "byDy9oFERheL",
        "outputId": "bfc3fed4-2c45-4830-a723-0981b1b02914"
      },
      "source": [
        "a = '123'; a = list(a); print(type(a)); print(a); print(a[2])"
      ],
      "execution_count": null,
      "outputs": [
        {
          "output_type": "stream",
          "text": [
            "<class 'list'>\n",
            "['1', '2', '3']\n",
            "3\n"
          ],
          "name": "stdout"
        }
      ]
    },
    {
      "cell_type": "code",
      "metadata": {
        "id": "DfS-gknCRheL",
        "outputId": "0cf2a3dd-678f-47ab-b4d6-c62e43e428e5"
      },
      "source": [
        "a = [1,'2', [3, '4']]; print(type(a)); print(a[0]); print(a[1]); print(a[2])"
      ],
      "execution_count": null,
      "outputs": [
        {
          "output_type": "stream",
          "text": [
            "<class 'list'>\n",
            "1\n",
            "2\n",
            "[3, '4']\n"
          ],
          "name": "stdout"
        }
      ]
    },
    {
      "cell_type": "markdown",
      "metadata": {
        "id": "eUrUhidX4E4M"
      },
      "source": [
        "**리스트 자료형**\n",
        "\n",
        "[] 사용, a = [1,'abc',[1,'2']]와 같은 형태도 리스트"
      ]
    },
    {
      "cell_type": "code",
      "metadata": {
        "id": "wuUZdEnyRheM",
        "outputId": "3f1479d8-f8d2-43b0-b33e-f54ac9e17f6d"
      },
      "source": [
        "a = (1,'2', [3, '4']); print(type(a)); print(a[0]); print(a[1]); print(a[2])"
      ],
      "execution_count": null,
      "outputs": [
        {
          "output_type": "stream",
          "text": [
            "<class 'tuple'>\n",
            "1\n",
            "2\n",
            "[3, '4']\n"
          ],
          "name": "stdout"
        }
      ]
    },
    {
      "cell_type": "markdown",
      "metadata": {
        "id": "fngK3Lmj4hhF"
      },
      "source": [
        "**튜플(소괄호)와 리스트(대괄호)의 차이**\n",
        "\n",
        "리스트에서는,\n",
        "a = [1, 2, 3]; a[0] = -1 를 입력하면\n",
        "\n",
        "a = [-1, 2, 3]으로 바뀌지만\n",
        "튜플은 자료 보호 차원에서 바뀌지 않는다"
      ]
    },
    {
      "cell_type": "code",
      "metadata": {
        "id": "2sivfloGRheM",
        "outputId": "5c768bb7-e02b-4c87-a76e-3e992cdb244e"
      },
      "source": [
        "a =\t{\"a\": \"apple\", \"b\": \"orange\", \"c\": 2014}\n",
        "print(type(a))\n",
        "print(a[\"a\"])"
      ],
      "execution_count": null,
      "outputs": [
        {
          "output_type": "stream",
          "text": [
            "<class 'dict'>\n",
            "apple\n"
          ],
          "name": "stdout"
        }
      ]
    },
    {
      "cell_type": "markdown",
      "metadata": {
        "id": "kEoLb5SU5K4O"
      },
      "source": [
        "**딕셔너리 자료형**\n",
        "\n",
        "딕셔너리에서는 순서말고 index로 해야 함."
      ]
    },
    {
      "cell_type": "code",
      "metadata": {
        "id": "NRnrx0N05hE9",
        "colab": {
          "base_uri": "https://localhost:8080/"
        },
        "outputId": "15bbcef0-a9d2-4423-c93f-401650a1b6b4"
      },
      "source": [
        "a = {'a':'love','b':'korea','c':2021}\n",
        "print(type(a))\n",
        "a['c'] = 2020\n",
        "print(a)"
      ],
      "execution_count": null,
      "outputs": [
        {
          "output_type": "stream",
          "text": [
            "<class 'dict'>\n",
            "{'a': 'love', 'b': 'korea', 'c': 2020}\n"
          ],
          "name": "stdout"
        }
      ]
    },
    {
      "cell_type": "code",
      "metadata": {
        "id": "A7teRXuCRheN",
        "outputId": "79a99306-d858-4682-a61e-a21c74bd903d"
      },
      "source": [
        "a=[(1,2,3), (3,8,0)]\n",
        "print(type(a))\n",
        "a"
      ],
      "execution_count": null,
      "outputs": [
        {
          "output_type": "stream",
          "text": [
            "<class 'list'>\n"
          ],
          "name": "stdout"
        },
        {
          "output_type": "execute_result",
          "data": {
            "text/plain": [
              "[(1, 2, 3), (3, 8, 0)]"
            ]
          },
          "metadata": {
            "tags": []
          },
          "execution_count": 27
        }
      ]
    }
  ]
}