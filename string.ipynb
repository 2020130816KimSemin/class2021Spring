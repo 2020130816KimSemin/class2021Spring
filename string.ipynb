{
  "nbformat": 4,
  "nbformat_minor": 0,
  "metadata": {
    "colab": {
      "name": "Untitled0.ipynb",
      "provenance": [],
      "authorship_tag": "ABX9TyMuHGYkndcdOOHgT+h/peWh",
      "include_colab_link": true
    },
    "kernelspec": {
      "name": "python3",
      "display_name": "Python 3"
    }
  },
  "cells": [
    {
      "cell_type": "markdown",
      "metadata": {
        "id": "view-in-github",
        "colab_type": "text"
      },
      "source": [
        "<a href=\"https://colab.research.google.com/github/2020130816KimSemin/class2021Spring/blob/main/string.ipynb\" target=\"_parent\"><img src=\"https://colab.research.google.com/assets/colab-badge.svg\" alt=\"Open In Colab\"/></a>"
      ]
    },
    {
      "cell_type": "markdown",
      "metadata": {
        "id": "Mo__1DzEeabu"
      },
      "source": [
        "지금까지는 변수를 다뤘고 이제부터는 문자열 string에 대해 더 자세하게 알아볼 예정\r\n",
        "string은 여러 개의 캐릭터가 합쳐진 것"
      ]
    },
    {
      "cell_type": "code",
      "metadata": {
        "id": "q3rAOE-wurKY",
        "colab": {
          "base_uri": "https://localhost:8080/"
        },
        "outputId": "f7a20faf-08ef-477e-8bf4-fbd697d7e210"
      },
      "source": [
        "s = 'abcdef'\n",
        "print(s[0], s[5], s[-1], s[-6])\n",
        "print(s[1:3], s[1:], s[:3], s[:])\n",
        "print(s[1:-1])"
      ],
      "execution_count": 2,
      "outputs": [
        {
          "output_type": "stream",
          "text": [
            "a f f a\n",
            "bc bcdef abc abcdef\n",
            "bcde\n"
          ],
          "name": "stdout"
        }
      ]
    },
    {
      "cell_type": "markdown",
      "metadata": {
        "id": "ypeNKEbL7-i8"
      },
      "source": [
        "**문자열 자료형**\r\n",
        "\r\n",
        "위와 같은 상황에서 print(s[1:-1])했을 때\r\n",
        "\r\n",
        "-1의 전 자리인 -2번째 자리까지이므로 bcde가 나옴"
      ]
    },
    {
      "cell_type": "code",
      "metadata": {
        "id": "6gW7LcAjurKe",
        "outputId": "470ab62e-551e-4682-e421-4ceb10ae572f"
      },
      "source": [
        "n = [100, 200, 300]\n",
        "print(n[0], n[2], n[-1], n[-3])\n",
        "print(n[1:2], n[1:], n[:2], n[:])"
      ],
      "execution_count": null,
      "outputs": [
        {
          "output_type": "stream",
          "text": [
            "100 300 300 100\n",
            "[200] [200, 300] [100, 200] [100, 200, 300]\n"
          ],
          "name": "stdout"
        }
      ]
    },
    {
      "cell_type": "markdown",
      "metadata": {
        "id": "K-AIc5knTGFR"
      },
      "source": [
        "리스트에서도 동일"
      ]
    },
    {
      "cell_type": "code",
      "metadata": {
        "id": "yhH3dnJJurKf",
        "outputId": "89e99b51-f056-4dc4-deba-bf8b757dc4be"
      },
      "source": [
        "len(s)"
      ],
      "execution_count": null,
      "outputs": [
        {
          "output_type": "execute_result",
          "data": {
            "text/plain": [
              "6"
            ]
          },
          "metadata": {
            "tags": []
          },
          "execution_count": 4
        }
      ]
    },
    {
      "cell_type": "markdown",
      "metadata": {
        "id": "NofBwOOtTh42"
      },
      "source": [
        "len은 길이"
      ]
    },
    {
      "cell_type": "code",
      "metadata": {
        "id": "CuIxLEgWurKf",
        "outputId": "c4761aae-98cc-49d9-ba14-b29539b23da2"
      },
      "source": [
        "s[1]+s[3]+s[4:]*10"
      ],
      "execution_count": null,
      "outputs": [
        {
          "output_type": "execute_result",
          "data": {
            "text/plain": [
              "'bdefefefefefefefefefef'"
            ]
          },
          "metadata": {
            "tags": []
          },
          "execution_count": 5
        }
      ]
    },
    {
      "cell_type": "markdown",
      "metadata": {
        "id": "CdSi6lqdbjbK"
      },
      "source": [
        "여기서 +는 수학적 의미의 +가 아님"
      ]
    },
    {
      "cell_type": "code",
      "metadata": {
        "id": "B-4Qj7h5urKg",
        "outputId": "df319b55-b2fa-4fe2-d125-b487ac8f2f5e"
      },
      "source": [
        "s.upper()"
      ],
      "execution_count": null,
      "outputs": [
        {
          "output_type": "execute_result",
          "data": {
            "text/plain": [
              "'ABCDEF'"
            ]
          },
          "metadata": {
            "tags": []
          },
          "execution_count": 7
        }
      ]
    },
    {
      "cell_type": "code",
      "metadata": {
        "id": "hX07L135by2N",
        "outputId": "b4f265f2-757c-4e46-ee0f-d590af51d7f8",
        "colab": {
          "base_uri": "https://localhost:8080/"
        }
      },
      "source": [
        "s = s.upper()\r\n",
        "print(s)"
      ],
      "execution_count": 4,
      "outputs": [
        {
          "output_type": "stream",
          "text": [
            "ABCDEF\n"
          ],
          "name": "stdout"
        }
      ]
    },
    {
      "cell_type": "markdown",
      "metadata": {
        "id": "Z2Ga6p1ubsbd"
      },
      "source": [
        "upper은 대문자로 바꾼다는 뜻. 반대는 lower\r\n",
        "단지 s를 대문자로 보여주는 것인데\r\n",
        "s 자체를 바꾸고 싶을 때는"
      ]
    },
    {
      "cell_type": "code",
      "metadata": {
        "id": "NH4kiUqBurKg",
        "outputId": "c03bfd55-2655-4b3d-f437-6abd57d1ccc3"
      },
      "source": [
        "s = ' this is a house built this year.\\n' \t\n",
        "s"
      ],
      "execution_count": null,
      "outputs": [
        {
          "output_type": "execute_result",
          "data": {
            "text/plain": [
              "' this is a house built this year.\\n'"
            ]
          },
          "metadata": {
            "tags": []
          },
          "execution_count": 10
        }
      ]
    },
    {
      "cell_type": "markdown",
      "metadata": {
        "id": "CPm260RbcCrJ"
      },
      "source": [
        "역슬래쉬n은 줄바꿈 기능\r\n",
        "(Q 한글 윈도우에서는 역슬래쉬 어떻게 치는지)\r\n"
      ]
    },
    {
      "cell_type": "code",
      "metadata": {
        "id": "fLQKJxqgurKg",
        "outputId": "43252659-8fb0-4261-ec80-8758a1d86a79"
      },
      "source": [
        "result = s.find('house') \t    # index of first instance of string t inside s (-1 if not found)\n",
        "result"
      ],
      "execution_count": null,
      "outputs": [
        {
          "output_type": "execute_result",
          "data": {
            "text/plain": [
              "11"
            ]
          },
          "metadata": {
            "tags": []
          },
          "execution_count": 11
        }
      ]
    },
    {
      "cell_type": "markdown",
      "metadata": {
        "id": "TOAx-AcAdHgj"
      },
      "source": [
        "'#' 뒤에 있는 것은 주석\r\n",
        "find 는 house에서 h가 몇번째 자리에 있는지 알려줌"
      ]
    },
    {
      "cell_type": "code",
      "metadata": {
        "id": "q8gAMAnFurKh",
        "outputId": "36b66681-67a4-4958-cbfd-cd9e57529ef1"
      },
      "source": [
        "result = s.find('this')\t    # index of last instance of string t inside s (-1 if not found)\n",
        "result"
      ],
      "execution_count": null,
      "outputs": [
        {
          "output_type": "execute_result",
          "data": {
            "text/plain": [
              "1"
            ]
          },
          "metadata": {
            "tags": []
          },
          "execution_count": 12
        }
      ]
    },
    {
      "cell_type": "code",
      "metadata": {
        "id": "HL7h78tcdg8L",
        "outputId": "c028476c-e577-434a-8b66-42a6463acbec",
        "colab": {
          "base_uri": "https://localhost:8080/"
        }
      },
      "source": [
        "result = s.find('that')\r\n",
        "result"
      ],
      "execution_count": 11,
      "outputs": [
        {
          "output_type": "execute_result",
          "data": {
            "text/plain": [
              "-1"
            ]
          },
          "metadata": {
            "tags": []
          },
          "execution_count": 11
        }
      ]
    },
    {
      "cell_type": "markdown",
      "metadata": {
        "id": "53MjqI6ndYlQ"
      },
      "source": [
        "이 문장에서 맨 첫 칸에 스페이스가 있기 때문에 1이 나오고\r\n",
        "that은 없지 때문에 -1이 나옴(주석 참고)"
      ]
    },
    {
      "cell_type": "code",
      "metadata": {
        "id": "hEP3BGLIurKh",
        "outputId": "a62e6a3a-eb2d-4333-cb13-7cac15ed6451"
      },
      "source": [
        "result = s.rindex('this')        # like s.find(t) except it raises ValueError if not found\n",
        "result"
      ],
      "execution_count": null,
      "outputs": [
        {
          "output_type": "execute_result",
          "data": {
            "text/plain": [
              "23"
            ]
          },
          "metadata": {
            "tags": []
          },
          "execution_count": 13
        }
      ]
    },
    {
      "cell_type": "markdown",
      "metadata": {
        "id": "451_LZM_dc5_"
      },
      "source": [
        "reindex는 거꾸로 세는 것"
      ]
    },
    {
      "cell_type": "code",
      "metadata": {
        "id": "CpFnxuosurKh",
        "outputId": "b8e27bc2-845d-4667-b5e9-006cef0216cf"
      },
      "source": [
        "s = s.strip()      \t            # a copy of s without leading or trailing whitespace\n",
        "s"
      ],
      "execution_count": null,
      "outputs": [
        {
          "output_type": "execute_result",
          "data": {
            "text/plain": [
              "'this is a house built this year.'"
            ]
          },
          "metadata": {
            "tags": []
          },
          "execution_count": 14
        }
      ]
    },
    {
      "cell_type": "markdown",
      "metadata": {
        "id": "LxP1aBS6eR4m"
      },
      "source": [
        "strip은 맨 첫칸의 space나 뒤의 줄바꿈 표시같은 것들을 지워 깔끔하게 보이도록"
      ]
    },
    {
      "cell_type": "code",
      "metadata": {
        "id": "2upnpA4aurKi",
        "outputId": "a18d13c9-a9af-4bfc-f6aa-c1544753e4d7"
      },
      "source": [
        "tokens = s.split(' ')\t        # split s into a list wherever a t is found (whitespace by default)\n",
        "tokens"
      ],
      "execution_count": null,
      "outputs": [
        {
          "output_type": "execute_result",
          "data": {
            "text/plain": [
              "['this', 'is', 'a', 'house', 'built', 'this', 'year.']"
            ]
          },
          "metadata": {
            "tags": []
          },
          "execution_count": 15
        }
      ]
    },
    {
      "cell_type": "code",
      "metadata": {
        "id": "HIUkcuqaurKi",
        "outputId": "b795e3ba-6271-4b95-b3d0-0dca7864e9c4"
      },
      "source": [
        "s = ' '.join(tokens)\t        # combine the words of the text into a string using s as the glue\n",
        "s"
      ],
      "execution_count": null,
      "outputs": [
        {
          "output_type": "execute_result",
          "data": {
            "text/plain": [
              "'this is a house built this year.'"
            ]
          },
          "metadata": {
            "tags": []
          },
          "execution_count": 16
        }
      ]
    },
    {
      "cell_type": "markdown",
      "metadata": {
        "id": "0HoVP2UQeBjF"
      },
      "source": [
        "split은 유용하게 쓰이는 기능인데 ' ', 즉 한칸 스페이스인 곳을 찾아 모두 분리 후 리스트로 나열하는 기능\r\n",
        "\r\n",
        "반대로, join은 붙이는 것"
      ]
    },
    {
      "cell_type": "code",
      "metadata": {
        "id": "NZC37X6eurKi",
        "outputId": "a297beb1-d89c-49a6-a922-258a8d3df5e4"
      },
      "source": [
        "s = s.replace('this', 'that')   # replace instances of t with u inside s\n",
        "s"
      ],
      "execution_count": null,
      "outputs": [
        {
          "output_type": "execute_result",
          "data": {
            "text/plain": [
              "'that is a house built that year.'"
            ]
          },
          "metadata": {
            "tags": []
          },
          "execution_count": 17
        }
      ]
    },
    {
      "cell_type": "markdown",
      "metadata": {
        "id": "TRDw5tvxd6A-"
      },
      "source": [
        "replace는 말그대로 대체"
      ]
    },
    {
      "cell_type": "markdown",
      "metadata": {
        "id": "UJXzmkprd1V7"
      },
      "source": [
        "+ print에는 string이어도 '' 없이 나오게 하는 기능이 있다"
      ]
    }
  ]
}